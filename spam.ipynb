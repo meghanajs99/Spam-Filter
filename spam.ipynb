{
 "cells": [
  {
   "cell_type": "markdown",
   "source": [
    "Spam Filter Classification Model"
   ],
   "metadata": {
    "collapsed": false,
    "pycharm": {
     "name": "#%% md\n"
    }
   }
  },
  {
   "cell_type": "code",
   "execution_count": 68,
   "outputs": [],
   "source": [
    "#core libraries\n",
    "import matplotlib.pyplot as plt\n",
    "import pandas as pd\n",
    "\n",
    "#sklearn processing\n",
    "from IPython.core.pylabtools import figsize\n",
    "from matplotlib import pyplot\n",
    "from sklearn.preprocessing import StandardScaler, MinMaxScaler\n",
    "from sklearn.model_selection import train_test_split, KFold\n",
    "\n",
    "#sklearn classification algorithms\n",
    "from sklearn.naive_bayes import GaussianNB\n",
    "from sklearn.svm import SVC, SVR\n",
    "from sklearn.tree import DecisionTreeClassifier\n",
    "from sklearn.neighbors import KNeighborsClassifier\n",
    "\n",
    "#visualization functions\n",
    "import seaborn as sns\n",
    "from statsmodels.graphics.gofplots import qqplot\n",
    "\n",
    "#sklearn classification model evaluation functions\n",
    "from sklearn import metrics"
   ],
   "metadata": {
    "collapsed": false,
    "pycharm": {
     "name": "#%%\n"
    }
   }
  },
  {
   "cell_type": "markdown",
   "source": [
    "Data Collection"
   ],
   "metadata": {
    "collapsed": false,
    "pycharm": {
     "name": "#%% md\n"
    }
   }
  },
  {
   "cell_type": "code",
   "execution_count": 35,
   "outputs": [],
   "source": [
    "#Since the data is already processed , we just store the processed data into a csv file.\n",
    "rf=pd.read_csv('spambase.data',header=None,delimiter=',')\n",
    "rf.columns=['word_freq_make','word_freq_address','word_freq_all','word_freq_3d','word_freq_our','word_freq_over','word_freq_remove','word_freq_internet',\n",
    "'word_freq_order','word_freq_mail','word_freq_receive','word_freq_will','word_freq_people','word_freq_report','word_freq_addresses',\n",
    "'word_freq_free','word_freq_business','word_freq_email','word_freq_you','word_freq_credit','word_freq_your','word_freq_font','word_freq_000',\n",
    "'word_freq_money','word_freq_hp','word_freq_hpl','word_freq_george','word_freq_650','word_freq_lab','word_freq_labs','word_freq_telnet',\n",
    "'word_freq_857','word_freq_data','word_freq_415','word_freq_85','word_freq_technology','word_freq_1999','word_freq_parts',\n",
    "'word_freq_pm','word_freq_direct','word_freq_cs','word_freq_meeting','word_freq_original','word_freq_project','word_freq_re','word_freq_edu',\n",
    "'word_freq_table','word_freq_conference','char_freq_;','char_freq_(','char_freq_[','char_freq_!','char_freq_$','char_freq_#','capital_run_length_average',\n",
    "'capital_run_length_longest','capital_run_length_total','class']\n",
    "rf.to_csv('SpamBase.csv',index=None)"
   ],
   "metadata": {
    "collapsed": false,
    "pycharm": {
     "name": "#%%\n"
    }
   }
  },
  {
   "cell_type": "markdown",
   "source": [
    "Data Preperation"
   ],
   "metadata": {
    "collapsed": false
   }
  },
  {
   "cell_type": "code",
   "execution_count": 36,
   "outputs": [],
   "source": [
    "#Load the data\n",
    "data=pd.read_csv(\"SpamBase.csv\")"
   ],
   "metadata": {
    "collapsed": false,
    "pycharm": {
     "name": "#%%\n"
    }
   }
  },
  {
   "cell_type": "code",
   "execution_count": 4,
   "outputs": [],
   "source": [
    "#Inspect Data"
   ],
   "metadata": {
    "collapsed": false,
    "pycharm": {
     "name": "#%%\n"
    }
   }
  },
  {
   "cell_type": "code",
   "execution_count": 37,
   "outputs": [
    {
     "data": {
      "text/plain": "Index(['word_freq_make', 'word_freq_address', 'word_freq_all', 'word_freq_3d',\n       'word_freq_our', 'word_freq_over', 'word_freq_remove',\n       'word_freq_internet', 'word_freq_order', 'word_freq_mail',\n       'word_freq_receive', 'word_freq_will', 'word_freq_people',\n       'word_freq_report', 'word_freq_addresses', 'word_freq_free',\n       'word_freq_business', 'word_freq_email', 'word_freq_you',\n       'word_freq_credit', 'word_freq_your', 'word_freq_font', 'word_freq_000',\n       'word_freq_money', 'word_freq_hp', 'word_freq_hpl', 'word_freq_george',\n       'word_freq_650', 'word_freq_lab', 'word_freq_labs', 'word_freq_telnet',\n       'word_freq_857', 'word_freq_data', 'word_freq_415', 'word_freq_85',\n       'word_freq_technology', 'word_freq_1999', 'word_freq_parts',\n       'word_freq_pm', 'word_freq_direct', 'word_freq_cs', 'word_freq_meeting',\n       'word_freq_original', 'word_freq_project', 'word_freq_re',\n       'word_freq_edu', 'word_freq_table', 'word_freq_conference',\n       'char_freq_;', 'char_freq_(', 'char_freq_[', 'char_freq_!',\n       'char_freq_$', 'char_freq_#', 'capital_run_length_average',\n       'capital_run_length_longest', 'capital_run_length_total', 'class'],\n      dtype='object')"
     },
     "execution_count": 37,
     "metadata": {},
     "output_type": "execute_result"
    }
   ],
   "source": [
    "#Inspecting the column names\n",
    "data.columns"
   ],
   "metadata": {
    "collapsed": false,
    "pycharm": {
     "name": "#%%\n"
    }
   }
  },
  {
   "cell_type": "code",
   "execution_count": 38,
   "outputs": [
    {
     "data": {
      "text/plain": "(4601, 58)"
     },
     "execution_count": 38,
     "metadata": {},
     "output_type": "execute_result"
    }
   ],
   "source": [
    "#inspecting the number of rows and columns\n",
    "data.shape"
   ],
   "metadata": {
    "collapsed": false,
    "pycharm": {
     "name": "#%%\n"
    }
   }
  },
  {
   "cell_type": "code",
   "execution_count": 43,
   "outputs": [
    {
     "data": {
      "text/plain": "   word_freq_make  word_freq_address  word_freq_all  word_freq_3d  \\\n0            0.00               0.64           0.64           0.0   \n1            0.21               0.28           0.50           0.0   \n2            0.06               0.00           0.71           0.0   \n3            0.00               0.00           0.00           0.0   \n4            0.00               0.00           0.00           0.0   \n\n   word_freq_our  word_freq_over  word_freq_remove  word_freq_internet  \\\n0           0.32            0.00              0.00                0.00   \n1           0.14            0.28              0.21                0.07   \n2           1.23            0.19              0.19                0.12   \n3           0.63            0.00              0.31                0.63   \n4           0.63            0.00              0.31                0.63   \n\n   word_freq_order  word_freq_mail  ...  char_freq_;  char_freq_(  \\\n0             0.00            0.00  ...         0.00        0.000   \n1             0.00            0.94  ...         0.00        0.132   \n2             0.64            0.25  ...         0.01        0.143   \n3             0.31            0.63  ...         0.00        0.137   \n4             0.31            0.63  ...         0.00        0.135   \n\n   char_freq_[  char_freq_!  char_freq_$  char_freq_#  \\\n0          0.0        0.778        0.000        0.000   \n1          0.0        0.372        0.180        0.048   \n2          0.0        0.276        0.184        0.010   \n3          0.0        0.137        0.000        0.000   \n4          0.0        0.135        0.000        0.000   \n\n   capital_run_length_average  capital_run_length_longest  \\\n0                       3.756                          61   \n1                       5.114                         101   \n2                       9.821                         485   \n3                       3.537                          40   \n4                       3.537                          40   \n\n   capital_run_length_total  class  \n0                       278      1  \n1                      1028      1  \n2                      2259      1  \n3                       191      1  \n4                       191      1  \n\n[5 rows x 58 columns]",
      "text/html": "<div>\n<style scoped>\n    .dataframe tbody tr th:only-of-type {\n        vertical-align: middle;\n    }\n\n    .dataframe tbody tr th {\n        vertical-align: top;\n    }\n\n    .dataframe thead th {\n        text-align: right;\n    }\n</style>\n<table border=\"1\" class=\"dataframe\">\n  <thead>\n    <tr style=\"text-align: right;\">\n      <th></th>\n      <th>word_freq_make</th>\n      <th>word_freq_address</th>\n      <th>word_freq_all</th>\n      <th>word_freq_3d</th>\n      <th>word_freq_our</th>\n      <th>word_freq_over</th>\n      <th>word_freq_remove</th>\n      <th>word_freq_internet</th>\n      <th>word_freq_order</th>\n      <th>word_freq_mail</th>\n      <th>...</th>\n      <th>char_freq_;</th>\n      <th>char_freq_(</th>\n      <th>char_freq_[</th>\n      <th>char_freq_!</th>\n      <th>char_freq_$</th>\n      <th>char_freq_#</th>\n      <th>capital_run_length_average</th>\n      <th>capital_run_length_longest</th>\n      <th>capital_run_length_total</th>\n      <th>class</th>\n    </tr>\n  </thead>\n  <tbody>\n    <tr>\n      <th>0</th>\n      <td>0.00</td>\n      <td>0.64</td>\n      <td>0.64</td>\n      <td>0.0</td>\n      <td>0.32</td>\n      <td>0.00</td>\n      <td>0.00</td>\n      <td>0.00</td>\n      <td>0.00</td>\n      <td>0.00</td>\n      <td>...</td>\n      <td>0.00</td>\n      <td>0.000</td>\n      <td>0.0</td>\n      <td>0.778</td>\n      <td>0.000</td>\n      <td>0.000</td>\n      <td>3.756</td>\n      <td>61</td>\n      <td>278</td>\n      <td>1</td>\n    </tr>\n    <tr>\n      <th>1</th>\n      <td>0.21</td>\n      <td>0.28</td>\n      <td>0.50</td>\n      <td>0.0</td>\n      <td>0.14</td>\n      <td>0.28</td>\n      <td>0.21</td>\n      <td>0.07</td>\n      <td>0.00</td>\n      <td>0.94</td>\n      <td>...</td>\n      <td>0.00</td>\n      <td>0.132</td>\n      <td>0.0</td>\n      <td>0.372</td>\n      <td>0.180</td>\n      <td>0.048</td>\n      <td>5.114</td>\n      <td>101</td>\n      <td>1028</td>\n      <td>1</td>\n    </tr>\n    <tr>\n      <th>2</th>\n      <td>0.06</td>\n      <td>0.00</td>\n      <td>0.71</td>\n      <td>0.0</td>\n      <td>1.23</td>\n      <td>0.19</td>\n      <td>0.19</td>\n      <td>0.12</td>\n      <td>0.64</td>\n      <td>0.25</td>\n      <td>...</td>\n      <td>0.01</td>\n      <td>0.143</td>\n      <td>0.0</td>\n      <td>0.276</td>\n      <td>0.184</td>\n      <td>0.010</td>\n      <td>9.821</td>\n      <td>485</td>\n      <td>2259</td>\n      <td>1</td>\n    </tr>\n    <tr>\n      <th>3</th>\n      <td>0.00</td>\n      <td>0.00</td>\n      <td>0.00</td>\n      <td>0.0</td>\n      <td>0.63</td>\n      <td>0.00</td>\n      <td>0.31</td>\n      <td>0.63</td>\n      <td>0.31</td>\n      <td>0.63</td>\n      <td>...</td>\n      <td>0.00</td>\n      <td>0.137</td>\n      <td>0.0</td>\n      <td>0.137</td>\n      <td>0.000</td>\n      <td>0.000</td>\n      <td>3.537</td>\n      <td>40</td>\n      <td>191</td>\n      <td>1</td>\n    </tr>\n    <tr>\n      <th>4</th>\n      <td>0.00</td>\n      <td>0.00</td>\n      <td>0.00</td>\n      <td>0.0</td>\n      <td>0.63</td>\n      <td>0.00</td>\n      <td>0.31</td>\n      <td>0.63</td>\n      <td>0.31</td>\n      <td>0.63</td>\n      <td>...</td>\n      <td>0.00</td>\n      <td>0.135</td>\n      <td>0.0</td>\n      <td>0.135</td>\n      <td>0.000</td>\n      <td>0.000</td>\n      <td>3.537</td>\n      <td>40</td>\n      <td>191</td>\n      <td>1</td>\n    </tr>\n  </tbody>\n</table>\n<p>5 rows × 58 columns</p>\n</div>"
     },
     "execution_count": 43,
     "metadata": {},
     "output_type": "execute_result"
    }
   ],
   "source": [
    "#Having a look at the data\n",
    "data.head()"
   ],
   "metadata": {
    "collapsed": false,
    "pycharm": {
     "name": "#%%\n"
    }
   }
  },
  {
   "cell_type": "code",
   "execution_count": 42,
   "outputs": [
    {
     "data": {
      "text/plain": "word_freq_make                float64\nword_freq_address             float64\nword_freq_all                 float64\nword_freq_3d                  float64\nword_freq_our                 float64\nword_freq_over                float64\nword_freq_remove              float64\nword_freq_internet            float64\nword_freq_order               float64\nword_freq_mail                float64\nword_freq_receive             float64\nword_freq_will                float64\nword_freq_people              float64\nword_freq_report              float64\nword_freq_addresses           float64\nword_freq_free                float64\nword_freq_business            float64\nword_freq_email               float64\nword_freq_you                 float64\nword_freq_credit              float64\nword_freq_your                float64\nword_freq_font                float64\nword_freq_000                 float64\nword_freq_money               float64\nword_freq_hp                  float64\nword_freq_hpl                 float64\nword_freq_george              float64\nword_freq_650                 float64\nword_freq_lab                 float64\nword_freq_labs                float64\nword_freq_telnet              float64\nword_freq_857                 float64\nword_freq_data                float64\nword_freq_415                 float64\nword_freq_85                  float64\nword_freq_technology          float64\nword_freq_1999                float64\nword_freq_parts               float64\nword_freq_pm                  float64\nword_freq_direct              float64\nword_freq_cs                  float64\nword_freq_meeting             float64\nword_freq_original            float64\nword_freq_project             float64\nword_freq_re                  float64\nword_freq_edu                 float64\nword_freq_table               float64\nword_freq_conference          float64\nchar_freq_;                   float64\nchar_freq_(                   float64\nchar_freq_[                   float64\nchar_freq_!                   float64\nchar_freq_$                   float64\nchar_freq_#                   float64\ncapital_run_length_average    float64\ncapital_run_length_longest      int64\ncapital_run_length_total        int64\nclass                           int64\ndtype: object"
     },
     "execution_count": 42,
     "metadata": {},
     "output_type": "execute_result"
    }
   ],
   "source": [
    "#Checking the data types of each feature\n",
    "data.dtypes"
   ],
   "metadata": {
    "collapsed": false,
    "pycharm": {
     "name": "#%%\n"
    }
   }
  },
  {
   "cell_type": "code",
   "execution_count": 40,
   "outputs": [
    {
     "data": {
      "text/plain": "       word_freq_make  word_freq_address  word_freq_all  word_freq_3d  \\\ncount     4601.000000        4601.000000    4601.000000   4601.000000   \nmean         0.104553           0.213015       0.280656      0.065425   \nstd          0.305358           1.290575       0.504143      1.395151   \nmin          0.000000           0.000000       0.000000      0.000000   \n25%          0.000000           0.000000       0.000000      0.000000   \n50%          0.000000           0.000000       0.000000      0.000000   \n75%          0.000000           0.000000       0.420000      0.000000   \nmax          4.540000          14.280000       5.100000     42.810000   \n\n       word_freq_our  word_freq_over  word_freq_remove  word_freq_internet  \\\ncount    4601.000000     4601.000000       4601.000000         4601.000000   \nmean        0.312223        0.095901          0.114208            0.105295   \nstd         0.672513        0.273824          0.391441            0.401071   \nmin         0.000000        0.000000          0.000000            0.000000   \n25%         0.000000        0.000000          0.000000            0.000000   \n50%         0.000000        0.000000          0.000000            0.000000   \n75%         0.380000        0.000000          0.000000            0.000000   \nmax        10.000000        5.880000          7.270000           11.110000   \n\n       word_freq_order  word_freq_mail  ...  char_freq_;  char_freq_(  \\\ncount      4601.000000     4601.000000  ...  4601.000000  4601.000000   \nmean          0.090067        0.239413  ...     0.038575     0.139030   \nstd           0.278616        0.644755  ...     0.243471     0.270355   \nmin           0.000000        0.000000  ...     0.000000     0.000000   \n25%           0.000000        0.000000  ...     0.000000     0.000000   \n50%           0.000000        0.000000  ...     0.000000     0.065000   \n75%           0.000000        0.160000  ...     0.000000     0.188000   \nmax           5.260000       18.180000  ...     4.385000     9.752000   \n\n       char_freq_[  char_freq_!  char_freq_$  char_freq_#  \\\ncount  4601.000000  4601.000000  4601.000000  4601.000000   \nmean      0.016976     0.269071     0.075811     0.044238   \nstd       0.109394     0.815672     0.245882     0.429342   \nmin       0.000000     0.000000     0.000000     0.000000   \n25%       0.000000     0.000000     0.000000     0.000000   \n50%       0.000000     0.000000     0.000000     0.000000   \n75%       0.000000     0.315000     0.052000     0.000000   \nmax       4.081000    32.478000     6.003000    19.829000   \n\n       capital_run_length_average  capital_run_length_longest  \\\ncount                 4601.000000                 4601.000000   \nmean                     5.191515                   52.172789   \nstd                     31.729449                  194.891310   \nmin                      1.000000                    1.000000   \n25%                      1.588000                    6.000000   \n50%                      2.276000                   15.000000   \n75%                      3.706000                   43.000000   \nmax                   1102.500000                 9989.000000   \n\n       capital_run_length_total        class  \ncount               4601.000000  4601.000000  \nmean                 283.289285     0.394045  \nstd                  606.347851     0.488698  \nmin                    1.000000     0.000000  \n25%                   35.000000     0.000000  \n50%                   95.000000     0.000000  \n75%                  266.000000     1.000000  \nmax                15841.000000     1.000000  \n\n[8 rows x 58 columns]",
      "text/html": "<div>\n<style scoped>\n    .dataframe tbody tr th:only-of-type {\n        vertical-align: middle;\n    }\n\n    .dataframe tbody tr th {\n        vertical-align: top;\n    }\n\n    .dataframe thead th {\n        text-align: right;\n    }\n</style>\n<table border=\"1\" class=\"dataframe\">\n  <thead>\n    <tr style=\"text-align: right;\">\n      <th></th>\n      <th>word_freq_make</th>\n      <th>word_freq_address</th>\n      <th>word_freq_all</th>\n      <th>word_freq_3d</th>\n      <th>word_freq_our</th>\n      <th>word_freq_over</th>\n      <th>word_freq_remove</th>\n      <th>word_freq_internet</th>\n      <th>word_freq_order</th>\n      <th>word_freq_mail</th>\n      <th>...</th>\n      <th>char_freq_;</th>\n      <th>char_freq_(</th>\n      <th>char_freq_[</th>\n      <th>char_freq_!</th>\n      <th>char_freq_$</th>\n      <th>char_freq_#</th>\n      <th>capital_run_length_average</th>\n      <th>capital_run_length_longest</th>\n      <th>capital_run_length_total</th>\n      <th>class</th>\n    </tr>\n  </thead>\n  <tbody>\n    <tr>\n      <th>count</th>\n      <td>4601.000000</td>\n      <td>4601.000000</td>\n      <td>4601.000000</td>\n      <td>4601.000000</td>\n      <td>4601.000000</td>\n      <td>4601.000000</td>\n      <td>4601.000000</td>\n      <td>4601.000000</td>\n      <td>4601.000000</td>\n      <td>4601.000000</td>\n      <td>...</td>\n      <td>4601.000000</td>\n      <td>4601.000000</td>\n      <td>4601.000000</td>\n      <td>4601.000000</td>\n      <td>4601.000000</td>\n      <td>4601.000000</td>\n      <td>4601.000000</td>\n      <td>4601.000000</td>\n      <td>4601.000000</td>\n      <td>4601.000000</td>\n    </tr>\n    <tr>\n      <th>mean</th>\n      <td>0.104553</td>\n      <td>0.213015</td>\n      <td>0.280656</td>\n      <td>0.065425</td>\n      <td>0.312223</td>\n      <td>0.095901</td>\n      <td>0.114208</td>\n      <td>0.105295</td>\n      <td>0.090067</td>\n      <td>0.239413</td>\n      <td>...</td>\n      <td>0.038575</td>\n      <td>0.139030</td>\n      <td>0.016976</td>\n      <td>0.269071</td>\n      <td>0.075811</td>\n      <td>0.044238</td>\n      <td>5.191515</td>\n      <td>52.172789</td>\n      <td>283.289285</td>\n      <td>0.394045</td>\n    </tr>\n    <tr>\n      <th>std</th>\n      <td>0.305358</td>\n      <td>1.290575</td>\n      <td>0.504143</td>\n      <td>1.395151</td>\n      <td>0.672513</td>\n      <td>0.273824</td>\n      <td>0.391441</td>\n      <td>0.401071</td>\n      <td>0.278616</td>\n      <td>0.644755</td>\n      <td>...</td>\n      <td>0.243471</td>\n      <td>0.270355</td>\n      <td>0.109394</td>\n      <td>0.815672</td>\n      <td>0.245882</td>\n      <td>0.429342</td>\n      <td>31.729449</td>\n      <td>194.891310</td>\n      <td>606.347851</td>\n      <td>0.488698</td>\n    </tr>\n    <tr>\n      <th>min</th>\n      <td>0.000000</td>\n      <td>0.000000</td>\n      <td>0.000000</td>\n      <td>0.000000</td>\n      <td>0.000000</td>\n      <td>0.000000</td>\n      <td>0.000000</td>\n      <td>0.000000</td>\n      <td>0.000000</td>\n      <td>0.000000</td>\n      <td>...</td>\n      <td>0.000000</td>\n      <td>0.000000</td>\n      <td>0.000000</td>\n      <td>0.000000</td>\n      <td>0.000000</td>\n      <td>0.000000</td>\n      <td>1.000000</td>\n      <td>1.000000</td>\n      <td>1.000000</td>\n      <td>0.000000</td>\n    </tr>\n    <tr>\n      <th>25%</th>\n      <td>0.000000</td>\n      <td>0.000000</td>\n      <td>0.000000</td>\n      <td>0.000000</td>\n      <td>0.000000</td>\n      <td>0.000000</td>\n      <td>0.000000</td>\n      <td>0.000000</td>\n      <td>0.000000</td>\n      <td>0.000000</td>\n      <td>...</td>\n      <td>0.000000</td>\n      <td>0.000000</td>\n      <td>0.000000</td>\n      <td>0.000000</td>\n      <td>0.000000</td>\n      <td>0.000000</td>\n      <td>1.588000</td>\n      <td>6.000000</td>\n      <td>35.000000</td>\n      <td>0.000000</td>\n    </tr>\n    <tr>\n      <th>50%</th>\n      <td>0.000000</td>\n      <td>0.000000</td>\n      <td>0.000000</td>\n      <td>0.000000</td>\n      <td>0.000000</td>\n      <td>0.000000</td>\n      <td>0.000000</td>\n      <td>0.000000</td>\n      <td>0.000000</td>\n      <td>0.000000</td>\n      <td>...</td>\n      <td>0.000000</td>\n      <td>0.065000</td>\n      <td>0.000000</td>\n      <td>0.000000</td>\n      <td>0.000000</td>\n      <td>0.000000</td>\n      <td>2.276000</td>\n      <td>15.000000</td>\n      <td>95.000000</td>\n      <td>0.000000</td>\n    </tr>\n    <tr>\n      <th>75%</th>\n      <td>0.000000</td>\n      <td>0.000000</td>\n      <td>0.420000</td>\n      <td>0.000000</td>\n      <td>0.380000</td>\n      <td>0.000000</td>\n      <td>0.000000</td>\n      <td>0.000000</td>\n      <td>0.000000</td>\n      <td>0.160000</td>\n      <td>...</td>\n      <td>0.000000</td>\n      <td>0.188000</td>\n      <td>0.000000</td>\n      <td>0.315000</td>\n      <td>0.052000</td>\n      <td>0.000000</td>\n      <td>3.706000</td>\n      <td>43.000000</td>\n      <td>266.000000</td>\n      <td>1.000000</td>\n    </tr>\n    <tr>\n      <th>max</th>\n      <td>4.540000</td>\n      <td>14.280000</td>\n      <td>5.100000</td>\n      <td>42.810000</td>\n      <td>10.000000</td>\n      <td>5.880000</td>\n      <td>7.270000</td>\n      <td>11.110000</td>\n      <td>5.260000</td>\n      <td>18.180000</td>\n      <td>...</td>\n      <td>4.385000</td>\n      <td>9.752000</td>\n      <td>4.081000</td>\n      <td>32.478000</td>\n      <td>6.003000</td>\n      <td>19.829000</td>\n      <td>1102.500000</td>\n      <td>9989.000000</td>\n      <td>15841.000000</td>\n      <td>1.000000</td>\n    </tr>\n  </tbody>\n</table>\n<p>8 rows × 58 columns</p>\n</div>"
     },
     "execution_count": 40,
     "metadata": {},
     "output_type": "execute_result"
    }
   ],
   "source": [
    "#Inspecting the range and spread of values of each feature\n",
    "data.describe()"
   ],
   "metadata": {
    "collapsed": false,
    "pycharm": {
     "name": "#%%\n"
    }
   }
  },
  {
   "cell_type": "code",
   "execution_count": 116,
   "outputs": [
    {
     "name": "stderr",
     "output_type": "stream",
     "text": [
      "<ipython-input-116-c93394e02181>:6: UserWarning: To output multiple subplots, the figure containing the passed axes is being cleared\n",
      "  data.hist(ax=ax)\n"
     ]
    },
    {
     "data": {
      "text/plain": "<Figure size 576x576 with 64 Axes>",
      "image/png": "[encoded data removed]"
     },
     "metadata": {
      "needs_background": "light"
     },
     "output_type": "display_data"
    },
    {
     "data": {
      "text/plain": "<Figure size 432x288 with 0 Axes>"
     },
     "metadata": {},
     "output_type": "display_data"
    }
   ],
   "source": [
    "#checking for null values\n",
    "data.columns.isnull()\n",
    "#Since there are no null values and the data type for each feature is sensible we go to the next step.\n",
    "fig=plt.figure(figsize=(8,8))\n",
    "ax=fig.gca()\n",
    "data.hist(ax=ax)\n",
    "plt.show()\n",
    "\n",
    "sns.histplot(x='class',data=data,ax=ax)\n",
    "plt.tight_layout()"
   ],
   "metadata": {
    "collapsed": false,
    "pycharm": {
     "name": "#%%\n"
    }
   }
  },
  {
   "cell_type": "markdown",
   "source": [
    "Data Modelling"
   ],
   "metadata": {
    "collapsed": false,
    "pycharm": {
     "name": "#%% md\n"
    }
   }
  },
  {
   "cell_type": "code",
   "execution_count": 44,
   "outputs": [
    {
     "data": {
      "text/plain": "      word_freq_make  word_freq_address  word_freq_all  word_freq_3d  \\\n36              0.00                0.0           0.00           0.0   \n706             0.00                0.0           0.00           0.0   \n1559            0.32                0.0           0.80           0.0   \n1349            0.18                0.0           0.09           0.0   \n3878            0.00                0.0           0.00           0.0   \n\n      word_freq_our  word_freq_over  word_freq_remove  word_freq_internet  \\\n36             2.94            0.00              0.00                0.00   \n706            0.84            1.27              0.42                0.00   \n1559           0.80            0.32              0.16                0.00   \n1349           0.36            0.09              0.00                0.36   \n3878           0.00            0.00              0.00                0.00   \n\n      word_freq_order  word_freq_mail  ...  word_freq_conference  char_freq_;  \\\n36               0.00            0.00  ...                   0.0        0.436   \n706              0.00            0.42  ...                   0.0        0.097   \n1559             0.64            0.00  ...                   0.0        0.000   \n1349             0.09            0.00  ...                   0.0        0.000   \n3878             0.13            0.00  ...                   0.0        0.125   \n\n      char_freq_(  char_freq_[  char_freq_!  char_freq_$  char_freq_#  \\\n36          0.436        0.000        0.873        0.000          0.0   \n706         0.097        1.171        0.244        0.390          0.0   \n1559        0.050        0.000        0.050        0.075          0.0   \n1349        0.059        0.029        0.029        0.014          0.0   \n3878        0.438        0.146        0.000        0.000          0.0   \n\n      capital_run_length_average  capital_run_length_longest  \\\n36                         4.142                          12   \n706                       26.405                         363   \n1559                       1.419                          15   \n1349                       4.192                          48   \n3878                       3.657                          35   \n\n      capital_run_length_total  \n36                          29  \n706                        977  \n1559                       159  \n1349                       566  \n3878                       534  \n\n[5 rows x 57 columns]",
      "text/html": "<div>\n<style scoped>\n    .dataframe tbody tr th:only-of-type {\n        vertical-align: middle;\n    }\n\n    .dataframe tbody tr th {\n        vertical-align: top;\n    }\n\n    .dataframe thead th {\n        text-align: right;\n    }\n</style>\n<table border=\"1\" class=\"dataframe\">\n  <thead>\n    <tr style=\"text-align: right;\">\n      <th></th>\n      <th>word_freq_make</th>\n      <th>word_freq_address</th>\n      <th>word_freq_all</th>\n      <th>word_freq_3d</th>\n      <th>word_freq_our</th>\n      <th>word_freq_over</th>\n      <th>word_freq_remove</th>\n      <th>word_freq_internet</th>\n      <th>word_freq_order</th>\n      <th>word_freq_mail</th>\n      <th>...</th>\n      <th>word_freq_conference</th>\n      <th>char_freq_;</th>\n      <th>char_freq_(</th>\n      <th>char_freq_[</th>\n      <th>char_freq_!</th>\n      <th>char_freq_$</th>\n      <th>char_freq_#</th>\n      <th>capital_run_length_average</th>\n      <th>capital_run_length_longest</th>\n      <th>capital_run_length_total</th>\n    </tr>\n  </thead>\n  <tbody>\n    <tr>\n      <th>36</th>\n      <td>0.00</td>\n      <td>0.0</td>\n      <td>0.00</td>\n      <td>0.0</td>\n      <td>2.94</td>\n      <td>0.00</td>\n      <td>0.00</td>\n      <td>0.00</td>\n      <td>0.00</td>\n      <td>0.00</td>\n      <td>...</td>\n      <td>0.0</td>\n      <td>0.436</td>\n      <td>0.436</td>\n      <td>0.000</td>\n      <td>0.873</td>\n      <td>0.000</td>\n      <td>0.0</td>\n      <td>4.142</td>\n      <td>12</td>\n      <td>29</td>\n    </tr>\n    <tr>\n      <th>706</th>\n      <td>0.00</td>\n      <td>0.0</td>\n      <td>0.00</td>\n      <td>0.0</td>\n      <td>0.84</td>\n      <td>1.27</td>\n      <td>0.42</td>\n      <td>0.00</td>\n      <td>0.00</td>\n      <td>0.42</td>\n      <td>...</td>\n      <td>0.0</td>\n      <td>0.097</td>\n      <td>0.097</td>\n      <td>1.171</td>\n      <td>0.244</td>\n      <td>0.390</td>\n      <td>0.0</td>\n      <td>26.405</td>\n      <td>363</td>\n      <td>977</td>\n    </tr>\n    <tr>\n      <th>1559</th>\n      <td>0.32</td>\n      <td>0.0</td>\n      <td>0.80</td>\n      <td>0.0</td>\n      <td>0.80</td>\n      <td>0.32</td>\n      <td>0.16</td>\n      <td>0.00</td>\n      <td>0.64</td>\n      <td>0.00</td>\n      <td>...</td>\n      <td>0.0</td>\n      <td>0.000</td>\n      <td>0.050</td>\n      <td>0.000</td>\n      <td>0.050</td>\n      <td>0.075</td>\n      <td>0.0</td>\n      <td>1.419</td>\n      <td>15</td>\n      <td>159</td>\n    </tr>\n    <tr>\n      <th>1349</th>\n      <td>0.18</td>\n      <td>0.0</td>\n      <td>0.09</td>\n      <td>0.0</td>\n      <td>0.36</td>\n      <td>0.09</td>\n      <td>0.00</td>\n      <td>0.36</td>\n      <td>0.09</td>\n      <td>0.00</td>\n      <td>...</td>\n      <td>0.0</td>\n      <td>0.000</td>\n      <td>0.059</td>\n      <td>0.029</td>\n      <td>0.029</td>\n      <td>0.014</td>\n      <td>0.0</td>\n      <td>4.192</td>\n      <td>48</td>\n      <td>566</td>\n    </tr>\n    <tr>\n      <th>3878</th>\n      <td>0.00</td>\n      <td>0.0</td>\n      <td>0.00</td>\n      <td>0.0</td>\n      <td>0.00</td>\n      <td>0.00</td>\n      <td>0.00</td>\n      <td>0.00</td>\n      <td>0.13</td>\n      <td>0.00</td>\n      <td>...</td>\n      <td>0.0</td>\n      <td>0.125</td>\n      <td>0.438</td>\n      <td>0.146</td>\n      <td>0.000</td>\n      <td>0.000</td>\n      <td>0.0</td>\n      <td>3.657</td>\n      <td>35</td>\n      <td>534</td>\n    </tr>\n  </tbody>\n</table>\n<p>5 rows × 57 columns</p>\n</div>"
     },
     "execution_count": 44,
     "metadata": {},
     "output_type": "execute_result"
    }
   ],
   "source": [
    "#Splitting the dataset\n",
    "#creating train -80% and test sets-20%\n",
    "x_train,x_test,y_train,y_test=train_test_split(data.iloc[:,:-1],data['class'],test_size=0.2,random_state=0)\n",
    "x_train.head()"
   ],
   "metadata": {
    "collapsed": false,
    "pycharm": {
     "name": "#%%\n"
    }
   }
  },
  {
   "cell_type": "code",
   "execution_count": 45,
   "outputs": [],
   "source": [
    "#create validation set-25%\n",
    "x_train,x_val,y_train,y_val=train_test_split(x_train,y_train,test_size=0.25,random_state=0)"
   ],
   "metadata": {
    "collapsed": false,
    "pycharm": {
     "name": "#%%\n"
    }
   }
  },
  {
   "cell_type": "code",
   "execution_count": 13,
   "outputs": [
    {
     "data": {
      "text/plain": "      word_freq_make  word_freq_address  word_freq_all  word_freq_3d  \\\n438             0.00               0.00           0.00           0.0   \n321             0.00               0.00           0.00           0.0   \n448             0.12               0.12           0.24           0.0   \n4459            0.00               0.00           0.00           0.0   \n3500            0.00               0.00           0.00           0.0   \n\n      word_freq_our  word_freq_over  word_freq_remove  word_freq_internet  \\\n438            1.31            0.00               0.0                0.00   \n321            0.00            0.00               0.0                0.67   \n448            1.34            0.12               0.0                0.12   \n4459           0.00            0.00               0.0                0.00   \n3500           0.00            0.00               0.0                0.00   \n\n      word_freq_order  word_freq_mail  ...  word_freq_conference  char_freq_;  \\\n438               0.0            0.00  ...                   0.0        0.000   \n321               0.0            0.67  ...                   0.0        0.170   \n448               0.0            0.00  ...                   0.0        0.061   \n4459              0.0            0.00  ...                   0.0        0.000   \n3500              0.0            1.96  ...                   0.0        0.000   \n\n      char_freq_(  char_freq_[  char_freq_!  char_freq_$  char_freq_#  \\\n438         0.251        0.000        1.007        0.000          0.0   \n321         0.511        0.085        0.511        0.000          0.0   \n448         0.020        0.000        0.041        0.041          0.0   \n4459        0.000        0.000       19.131        0.000          0.0   \n3500        0.373        0.000        0.000        0.000          0.0   \n\n      capital_run_length_average  capital_run_length_longest  \\\n438                        1.440                           8   \n321                        4.617                          27   \n448                        2.351                          69   \n4459                      13.250                          48   \n3500                       1.857                          11   \n\n      capital_run_length_total  \n438                         36  \n321                        217  \n448                        254  \n4459                        53  \n3500                        26  \n\n[5 rows x 57 columns]",
      "text/html": "<div>\n<style scoped>\n    .dataframe tbody tr th:only-of-type {\n        vertical-align: middle;\n    }\n\n    .dataframe tbody tr th {\n        vertical-align: top;\n    }\n\n    .dataframe thead th {\n        text-align: right;\n    }\n</style>\n<table border=\"1\" class=\"dataframe\">\n  <thead>\n    <tr style=\"text-align: right;\">\n      <th></th>\n      <th>word_freq_make</th>\n      <th>word_freq_address</th>\n      <th>word_freq_all</th>\n      <th>word_freq_3d</th>\n      <th>word_freq_our</th>\n      <th>word_freq_over</th>\n      <th>word_freq_remove</th>\n      <th>word_freq_internet</th>\n      <th>word_freq_order</th>\n      <th>word_freq_mail</th>\n      <th>...</th>\n      <th>word_freq_conference</th>\n      <th>char_freq_;</th>\n      <th>char_freq_(</th>\n      <th>char_freq_[</th>\n      <th>char_freq_!</th>\n      <th>char_freq_$</th>\n      <th>char_freq_#</th>\n      <th>capital_run_length_average</th>\n      <th>capital_run_length_longest</th>\n      <th>capital_run_length_total</th>\n    </tr>\n  </thead>\n  <tbody>\n    <tr>\n      <th>438</th>\n      <td>0.00</td>\n      <td>0.00</td>\n      <td>0.00</td>\n      <td>0.0</td>\n      <td>1.31</td>\n      <td>0.00</td>\n      <td>0.0</td>\n      <td>0.00</td>\n      <td>0.0</td>\n      <td>0.00</td>\n      <td>...</td>\n      <td>0.0</td>\n      <td>0.000</td>\n      <td>0.251</td>\n      <td>0.000</td>\n      <td>1.007</td>\n      <td>0.000</td>\n      <td>0.0</td>\n      <td>1.440</td>\n      <td>8</td>\n      <td>36</td>\n    </tr>\n    <tr>\n      <th>321</th>\n      <td>0.00</td>\n      <td>0.00</td>\n      <td>0.00</td>\n      <td>0.0</td>\n      <td>0.00</td>\n      <td>0.00</td>\n      <td>0.0</td>\n      <td>0.67</td>\n      <td>0.0</td>\n      <td>0.67</td>\n      <td>...</td>\n      <td>0.0</td>\n      <td>0.170</td>\n      <td>0.511</td>\n      <td>0.085</td>\n      <td>0.511</td>\n      <td>0.000</td>\n      <td>0.0</td>\n      <td>4.617</td>\n      <td>27</td>\n      <td>217</td>\n    </tr>\n    <tr>\n      <th>448</th>\n      <td>0.12</td>\n      <td>0.12</td>\n      <td>0.24</td>\n      <td>0.0</td>\n      <td>1.34</td>\n      <td>0.12</td>\n      <td>0.0</td>\n      <td>0.12</td>\n      <td>0.0</td>\n      <td>0.00</td>\n      <td>...</td>\n      <td>0.0</td>\n      <td>0.061</td>\n      <td>0.020</td>\n      <td>0.000</td>\n      <td>0.041</td>\n      <td>0.041</td>\n      <td>0.0</td>\n      <td>2.351</td>\n      <td>69</td>\n      <td>254</td>\n    </tr>\n    <tr>\n      <th>4459</th>\n      <td>0.00</td>\n      <td>0.00</td>\n      <td>0.00</td>\n      <td>0.0</td>\n      <td>0.00</td>\n      <td>0.00</td>\n      <td>0.0</td>\n      <td>0.00</td>\n      <td>0.0</td>\n      <td>0.00</td>\n      <td>...</td>\n      <td>0.0</td>\n      <td>0.000</td>\n      <td>0.000</td>\n      <td>0.000</td>\n      <td>19.131</td>\n      <td>0.000</td>\n      <td>0.0</td>\n      <td>13.250</td>\n      <td>48</td>\n      <td>53</td>\n    </tr>\n    <tr>\n      <th>3500</th>\n      <td>0.00</td>\n      <td>0.00</td>\n      <td>0.00</td>\n      <td>0.0</td>\n      <td>0.00</td>\n      <td>0.00</td>\n      <td>0.0</td>\n      <td>0.00</td>\n      <td>0.0</td>\n      <td>1.96</td>\n      <td>...</td>\n      <td>0.0</td>\n      <td>0.000</td>\n      <td>0.373</td>\n      <td>0.000</td>\n      <td>0.000</td>\n      <td>0.000</td>\n      <td>0.0</td>\n      <td>1.857</td>\n      <td>11</td>\n      <td>26</td>\n    </tr>\n  </tbody>\n</table>\n<p>5 rows × 57 columns</p>\n</div>"
     },
     "execution_count": 13,
     "metadata": {},
     "output_type": "execute_result"
    }
   ],
   "source": [
    "x_train.head()"
   ],
   "metadata": {
    "collapsed": false,
    "pycharm": {
     "name": "#%%\n"
    }
   }
  },
  {
   "cell_type": "code",
   "execution_count": 101,
   "outputs": [
    {
     "name": "stdout",
     "output_type": "stream",
     "text": [
      "(461, 57) (4140, 57) (920, 57)\n"
     ]
    }
   ],
   "source": [
    "#Inspecting the shape of test,train and validation set\n",
    "print(x_test.shape,x_train.shape,x_val.shape)"
   ],
   "metadata": {
    "collapsed": false,
    "pycharm": {
     "name": "#%%\n"
    }
   }
  },
  {
   "cell_type": "code",
   "execution_count": 47,
   "outputs": [],
   "source": [
    "#Mormalizing the data using Min Max scaler which will rescale the data so that all values will be in the range 0 and 1\n",
    "#scaler=StandardScaler()\n",
    "scaler2=MinMaxScaler()\n",
    "#fit estimates the min and max values in the training data\n",
    "scaler2.fit(x_train)\n",
    "#transform normalises the data\n",
    "x_train_scaled=scaler2.transform(x_train)\n",
    "x_train_scaled=pd.DataFrame(x_train_scaled)\n",
    "x_val_scaled=scaler2.transform(x_val)\n",
    "x_val_scaled=pd.DataFrame(x_val_scaled)"
   ],
   "metadata": {
    "collapsed": false,
    "pycharm": {
     "name": "#%%\n"
    }
   }
  },
  {
   "cell_type": "markdown",
   "source": [
    "Classification Models"
   ],
   "metadata": {
    "collapsed": false
   }
  },
  {
   "cell_type": "markdown",
   "source": [
    "Naive Bayes"
   ],
   "metadata": {
    "collapsed": false,
    "pycharm": {
     "name": "#%% md\n"
    }
   }
  },
  {
   "cell_type": "code",
   "source": [
    "classifier=GaussianNB()\n",
    "classifier.fit(x_train_scaled,y_train)"
   ],
   "metadata": {
    "collapsed": false,
    "pycharm": {
     "name": "#%%\n"
    }
   },
   "execution_count": 48,
   "outputs": [
    {
     "data": {
      "text/plain": "GaussianNB()"
     },
     "execution_count": 48,
     "metadata": {},
     "output_type": "execute_result"
    }
   ]
  },
  {
   "cell_type": "code",
   "execution_count": 49,
   "outputs": [],
   "source": [
    "y_pred=classifier.predict(x_val_scaled)"
   ],
   "metadata": {
    "collapsed": false,
    "pycharm": {
     "name": "#%%\n"
    }
   }
  },
  {
   "cell_type": "code",
   "execution_count": 50,
   "outputs": [
    {
     "name": "stdout",
     "output_type": "stream",
     "text": [
      "Accuracy= 0.8271739130434783 \n",
      "Error= 0.17282608695652169 \n",
      "Precision= [0.96926714 0.70623742] \n",
      "Recall= [0.73741007 0.96428571] \n",
      "F1 Score= [0.83758938 0.81533101]\n"
     ]
    }
   ],
   "source": [
    "accuracy=metrics.accuracy_score(y_val,y_pred)\n",
    "error=1-accuracy\n",
    "precision=metrics.precision_score(y_val,y_pred,average=None)\n",
    "recall=metrics.recall_score(y_val,y_pred,average=None)\n",
    "F1_score=metrics.f1_score(y_val,y_pred,average=None)\n",
    "print(\"Accuracy=\",accuracy,\"\\nError=\",error,\"\\nPrecision=\",precision,\"\\nRecall=\",recall,\"\\nF1 Score=\",F1_score)"
   ],
   "metadata": {
    "collapsed": false,
    "pycharm": {
     "name": "#%%\n"
    }
   }
  },
  {
   "cell_type": "markdown",
   "source": [
    "Support Vector Machine"
   ],
   "metadata": {
    "collapsed": false
   }
  },
  {
   "cell_type": "code",
   "execution_count": 51,
   "outputs": [
    {
     "data": {
      "text/plain": "SVC(gamma='auto')"
     },
     "execution_count": 51,
     "metadata": {},
     "output_type": "execute_result"
    }
   ],
   "source": [
    "classifier=SVC(kernel='rbf',gamma='auto')\n",
    "classifier.fit(x_train_scaled,y_train)"
   ],
   "metadata": {
    "collapsed": false,
    "pycharm": {
     "name": "#%%\n"
    }
   }
  },
  {
   "cell_type": "code",
   "execution_count": 52,
   "outputs": [],
   "source": [
    "y_pred=classifier.predict(x_val_scaled)"
   ],
   "metadata": {
    "collapsed": false,
    "pycharm": {
     "name": "#%%\n"
    }
   }
  },
  {
   "cell_type": "code",
   "execution_count": 53,
   "outputs": [
    {
     "name": "stdout",
     "output_type": "stream",
     "text": [
      "Accuracy= 0.7706521739130435 \n",
      "Error= 0.22934782608695647 \n",
      "Precision= [0.73216689 0.93220339] \n",
      "Recall= [0.97841727 0.4532967 ] \n",
      "F1 Score= [0.83756736 0.60998152]\n"
     ]
    }
   ],
   "source": [
    "accuracy=metrics.accuracy_score(y_val,y_pred)\n",
    "error=1-accuracy\n",
    "precision=metrics.precision_score(y_val,y_pred,average=None)\n",
    "recall=metrics.recall_score(y_val,y_pred,average=None)\n",
    "F1_score=metrics.f1_score(y_val,y_pred,average=None)\n",
    "print(\"Accuracy=\",accuracy,\"\\nError=\",error,\"\\nPrecision=\",precision,\"\\nRecall=\",recall,\"\\nF1 Score=\",F1_score)"
   ],
   "metadata": {
    "collapsed": false,
    "pycharm": {
     "name": "#%%\n"
    }
   }
  },
  {
   "cell_type": "markdown",
   "source": [
    "Decision Tree classifier"
   ],
   "metadata": {
    "collapsed": false,
    "pycharm": {
     "name": "#%% md\n"
    }
   }
  },
  {
   "cell_type": "code",
   "execution_count": 54,
   "outputs": [
    {
     "data": {
      "text/plain": "DecisionTreeClassifier(criterion='entropy', random_state=0)"
     },
     "execution_count": 54,
     "metadata": {},
     "output_type": "execute_result"
    }
   ],
   "source": [
    "classifier=DecisionTreeClassifier(criterion=\"entropy\",random_state=0)\n",
    "classifier.fit(x_train_scaled,y_train)"
   ],
   "metadata": {
    "collapsed": false,
    "pycharm": {
     "name": "#%%\n"
    }
   }
  },
  {
   "cell_type": "code",
   "execution_count": 55,
   "outputs": [],
   "source": [
    "y_pred=classifier.predict(x_val_scaled)"
   ],
   "metadata": {
    "collapsed": false,
    "pycharm": {
     "name": "#%%\n"
    }
   }
  },
  {
   "cell_type": "code",
   "execution_count": 56,
   "outputs": [
    {
     "name": "stdout",
     "output_type": "stream",
     "text": [
      "Accuracy= 0.908695652173913 \n",
      "Error= 0.09130434782608698 \n",
      "Precision= [0.91992883 0.89106145] \n",
      "Recall= [0.92985612 0.87637363] \n",
      "F1 Score= [0.92486583 0.88365651]\n"
     ]
    }
   ],
   "source": [
    "accuracy=metrics.accuracy_score(y_val,y_pred)\n",
    "error=1-accuracy\n",
    "precision=metrics.precision_score(y_val,y_pred,average=None)\n",
    "recall=metrics.recall_score(y_val,y_pred,average=None)\n",
    "F1_score=metrics.f1_score(y_val,y_pred,average=None)\n",
    "print(\"Accuracy=\",accuracy,\"\\nError=\",error,\"\\nPrecision=\",precision,\"\\nRecall=\",recall,\"\\nF1 Score=\",F1_score)"
   ],
   "metadata": {
    "collapsed": false,
    "pycharm": {
     "name": "#%%\n"
    }
   }
  },
  {
   "cell_type": "markdown",
   "source": [
    "k Nearest Neighbors"
   ],
   "metadata": {
    "collapsed": false
   }
  },
  {
   "cell_type": "code",
   "execution_count": 57,
   "outputs": [
    {
     "data": {
      "text/plain": "KNeighborsClassifier(n_neighbors=8, weights='distance')"
     },
     "execution_count": 57,
     "metadata": {},
     "output_type": "execute_result"
    }
   ],
   "source": [
    "k_classifier=KNeighborsClassifier(n_neighbors=8,weights='distance')\n",
    "k_classifier.fit(x_train_scaled,y_train)"
   ],
   "metadata": {
    "collapsed": false,
    "pycharm": {
     "name": "#%%\n"
    }
   }
  },
  {
   "cell_type": "code",
   "execution_count": 58,
   "outputs": [],
   "source": [
    "y_pred=k_classifier.predict(x_val_scaled)"
   ],
   "metadata": {
    "collapsed": false,
    "pycharm": {
     "name": "#%%\n"
    }
   }
  },
  {
   "cell_type": "code",
   "execution_count": 59,
   "outputs": [
    {
     "name": "stdout",
     "output_type": "stream",
     "text": [
      "Accuracy= 0.9130434782608695 \n",
      "Error= 0.08695652173913049 \n",
      "Precision= [0.91608392 0.90804598] \n",
      "Recall= [0.94244604 0.86813187] \n",
      "F1 Score= [0.92907801 0.88764045]\n"
     ]
    }
   ],
   "source": [
    "accuracy=metrics.accuracy_score(y_val,y_pred)\n",
    "error=1-accuracy\n",
    "precision=metrics.precision_score(y_val,y_pred,average=None)\n",
    "recall=metrics.recall_score(y_val,y_pred,average=None)\n",
    "F1_score=metrics.f1_score(y_val,y_pred,average=None)\n",
    "print(\"Accuracy=\",accuracy,\"\\nError=\",error,\"\\nPrecision=\",precision,\"\\nRecall=\",recall,\"\\nF1 Score=\",F1_score)\n",
    "#Selection of optimal value of K"
   ],
   "metadata": {
    "collapsed": false,
    "pycharm": {
     "name": "#%%\n"
    }
   }
  },
  {
   "cell_type": "code",
   "execution_count": 60,
   "outputs": [
    {
     "name": "stdout",
     "output_type": "stream",
     "text": [
      "1 Accuracy= 0.9043478260869565 \n",
      "Error= 0.09565217391304348 \n",
      "Precision= [0.90909091 0.89655172] \n",
      "Recall= [0.9352518  0.85714286] \n",
      "F1 Score= [0.92198582 0.87640449] \n",
      "\n",
      "2 Accuracy= 0.9043478260869565 \n",
      "Error= 0.09565217391304348 \n",
      "Precision= [0.90909091 0.89655172] \n",
      "Recall= [0.9352518  0.85714286] \n",
      "F1 Score= [0.92198582 0.87640449] \n",
      "\n",
      "3 Accuracy= 0.908695652173913 \n",
      "Error= 0.09130434782608698 \n",
      "Precision= [0.91549296 0.89772727] \n",
      "Recall= [0.9352518  0.86813187] \n",
      "F1 Score= [0.9252669  0.88268156] \n",
      "\n",
      "4 Accuracy= 0.9130434782608695 \n",
      "Error= 0.08695652173913049 \n",
      "Precision= [0.91608392 0.90804598] \n",
      "Recall= [0.94244604 0.86813187] \n",
      "F1 Score= [0.92907801 0.88764045] \n",
      "\n",
      "5 Accuracy= 0.9097826086956522 \n",
      "Error= 0.0902173913043478 \n",
      "Precision= [0.91710758 0.898017  ] \n",
      "Recall= [0.9352518  0.87087912] \n",
      "F1 Score= [0.92609083 0.88423989] \n",
      "\n",
      "6 Accuracy= 0.9141304347826087 \n",
      "Error= 0.08586956521739131 \n",
      "Precision= [0.91768827 0.90830946] \n",
      "Recall= [0.94244604 0.87087912] \n",
      "F1 Score= [0.9299024  0.88920056] \n",
      "\n",
      "7 Accuracy= 0.9108695652173913 \n",
      "Error= 0.08913043478260874 \n",
      "Precision= [0.91872792 0.89830508] \n",
      "Recall= [0.9352518  0.87362637] \n",
      "F1 Score= [0.92691622 0.88579387] \n",
      "\n",
      "8 Accuracy= 0.9130434782608695 \n",
      "Error= 0.08695652173913049 \n",
      "Precision= [0.91608392 0.90804598] \n",
      "Recall= [0.94244604 0.86813187] \n",
      "F1 Score= [0.92907801 0.88764045] \n",
      "\n",
      "9 Accuracy= 0.9097826086956522 \n",
      "Error= 0.0902173913043478 \n",
      "Precision= [0.91418564 0.9025788 ] \n",
      "Recall= [0.93884892 0.86538462] \n",
      "F1 Score= [0.92635315 0.88359046] \n",
      "\n",
      "10 Accuracy= 0.9097826086956522 \n",
      "Error= 0.0902173913043478 \n",
      "Precision= [0.91273997 0.90489914] \n",
      "Recall= [0.94064748 0.86263736] \n",
      "F1 Score= [0.92648361 0.88326301] \n",
      "\n",
      "11 Accuracy= 0.9065217391304348 \n",
      "Error= 0.09347826086956523 \n",
      "Precision= [0.91083916 0.89942529] \n",
      "Recall= [0.93705036 0.85989011] \n",
      "F1 Score= [0.92375887 0.87921348] \n",
      "\n",
      "12 Accuracy= 0.907608695652174 \n",
      "Error= 0.09239130434782605 \n",
      "Precision= [0.91243433 0.89971347] \n",
      "Recall= [0.93705036 0.86263736] \n",
      "F1 Score= [0.92457853 0.88078541] \n",
      "\n",
      "13 Accuracy= 0.9065217391304348 \n",
      "Error= 0.09347826086956523 \n",
      "Precision= [0.90798611 0.90406977] \n",
      "Recall= [0.94064748 0.8543956 ] \n",
      "F1 Score= [0.92402827 0.87853107] \n",
      "\n",
      "14 Accuracy= 0.907608695652174 \n",
      "Error= 0.09239130434782605 \n",
      "Precision= [0.90956522 0.90434783] \n",
      "Recall= [0.94064748 0.85714286] \n",
      "F1 Score= [0.92484527 0.88011283] \n",
      "\n",
      "15 Accuracy= 0.9054347826086957 \n",
      "Error= 0.0945652173913043 \n",
      "Precision= [0.90500864 0.90615836] \n",
      "Recall= [0.94244604 0.8489011 ] \n",
      "F1 Score= [0.92334802 0.87659574] \n",
      "\n",
      "16 Accuracy= 0.9065217391304348 \n",
      "Error= 0.09347826086956523 \n",
      "Precision= [0.90657439 0.90643275] \n",
      "Recall= [0.94244604 0.85164835] \n",
      "F1 Score= [0.92416226 0.87818697] \n",
      "\n",
      "17 Accuracy= 0.8978260869565218 \n",
      "Error= 0.10217391304347823 \n",
      "Precision= [0.89690722 0.89940828] \n",
      "Recall= [0.93884892 0.83516484] \n",
      "F1 Score= [0.91739895 0.86609687] \n",
      "\n",
      "18 Accuracy= 0.8967391304347826 \n",
      "Error= 0.1032608695652174 \n",
      "Precision= [0.89672978 0.89675516] \n",
      "Recall= [0.93705036 0.83516484] \n",
      "F1 Score= [0.91644679 0.86486486] \n",
      "\n",
      "19 Accuracy= 0.8923913043478261 \n",
      "Error= 0.1076086956521739 \n",
      "Precision= [0.89059829 0.89552239] \n",
      "Recall= [0.93705036 0.82417582] \n",
      "F1 Score= [0.91323401 0.8583691 ] \n",
      "\n",
      "20 Accuracy= 0.8913043478260869 \n",
      "Error= 0.10869565217391308 \n",
      "Precision= [0.8890785  0.89520958] \n",
      "Recall= [0.93705036 0.82142857] \n",
      "F1 Score= [0.91243433 0.85673352] \n",
      "\n",
      "21 Accuracy= 0.8956521739130435 \n",
      "Error= 0.10434782608695647 \n",
      "Precision= [0.89249147 0.9011976 ] \n",
      "Recall= [0.94064748 0.82692308] \n",
      "F1 Score= [0.91593695 0.86246418] \n",
      "\n",
      "22 Accuracy= 0.8956521739130435 \n",
      "Error= 0.10434782608695647 \n",
      "Precision= [0.89249147 0.9011976 ] \n",
      "Recall= [0.94064748 0.82692308] \n",
      "F1 Score= [0.91593695 0.86246418] \n",
      "\n",
      "23 Accuracy= 0.8989130434782608 \n",
      "Error= 0.10108695652173916 \n",
      "Precision= [0.89437819 0.90690691] \n",
      "Recall= [0.9442446  0.82967033] \n",
      "F1 Score= [0.91863517 0.86657102] \n",
      "\n",
      "24 Accuracy= 0.8934782608695652 \n",
      "Error= 0.10652173913043483 \n",
      "Precision= [0.89212329 0.89583333] \n",
      "Recall= [0.93705036 0.82692308] \n",
      "F1 Score= [0.91403509 0.86      ] \n",
      "\n",
      "25 Accuracy= 0.8956521739130435 \n",
      "Error= 0.10434782608695647 \n",
      "Precision= [0.89115646 0.90361446] \n",
      "Recall= [0.94244604 0.82417582] \n",
      "F1 Score= [0.91608392 0.86206897] \n",
      "\n",
      "26 Accuracy= 0.8902173913043478 \n",
      "Error= 0.10978260869565215 \n",
      "Precision= [0.88756388 0.89489489] \n",
      "Recall= [0.93705036 0.81868132] \n",
      "F1 Score= [0.91163605 0.85509326] \n",
      "\n",
      "27 Accuracy= 0.8913043478260869 \n",
      "Error= 0.10869565217391308 \n",
      "Precision= [0.8877551  0.89759036] \n",
      "Recall= [0.93884892 0.81868132] \n",
      "F1 Score= [0.91258741 0.85632184] \n",
      "\n",
      "28 Accuracy= 0.8913043478260869 \n",
      "Error= 0.10869565217391308 \n",
      "Precision= [0.89041096 0.89285714] \n",
      "Recall= [0.9352518  0.82417582] \n",
      "F1 Score= [0.9122807  0.85714286] \n",
      "\n",
      "29 Accuracy= 0.8923913043478261 \n",
      "Error= 0.1076086956521739 \n",
      "Precision= [0.88926746 0.8978979 ] \n",
      "Recall= [0.93884892 0.82142857] \n",
      "F1 Score= [0.91338583 0.8579627 ] \n",
      "\n"
     ]
    }
   ],
   "source": [
    "for i in range(1,30):\n",
    "    classifier=KNeighborsClassifier(n_neighbors=i,weights='distance')\n",
    "    classifier.fit(x_train_scaled,y_train)\n",
    "    y_pred=classifier.predict(x_val_scaled)\n",
    "    accuracy=metrics.accuracy_score(y_val,y_pred)\n",
    "    error=1-accuracy\n",
    "    precision=metrics.precision_score(y_val,y_pred,average=None)\n",
    "    recall=metrics.recall_score(y_val,y_pred,average=None)\n",
    "    F1_score=metrics.f1_score(y_val,y_pred,average=None)\n",
    "    print(i,\"Accuracy=\",accuracy,\"\\nError=\",error,\"\\nPrecision=\",precision,\"\\nRecall=\",recall,\"\\nF1 Score=\",F1_score,'\\n')"
   ],
   "metadata": {
    "collapsed": false,
    "pycharm": {
     "name": "#%%\n"
    }
   }
  },
  {
   "cell_type": "markdown",
   "source": [
    "Best Performing Model k Nearest Neighbors -k=8"
   ],
   "metadata": {
    "collapsed": false,
    "pycharm": {
     "name": "#%% md\n"
    }
   }
  },
  {
   "cell_type": "code",
   "execution_count": 61,
   "outputs": [],
   "source": [
    "x=data.iloc[:,:-1]\n",
    "y=data['class']"
   ],
   "metadata": {
    "collapsed": false,
    "pycharm": {
     "name": "#%%\n"
    }
   }
  },
  {
   "cell_type": "code",
   "execution_count": 62,
   "outputs": [
    {
     "data": {
      "text/plain": "((4601, 57), (4601,))"
     },
     "execution_count": 62,
     "metadata": {},
     "output_type": "execute_result"
    }
   ],
   "source": [
    "x.shape,y.shape"
   ],
   "metadata": {
    "collapsed": false,
    "pycharm": {
     "name": "#%%\n"
    }
   }
  },
  {
   "cell_type": "code",
   "execution_count": 63,
   "outputs": [],
   "source": [
    "kcv=KFold(n_splits=10,shuffle=True)\n",
    "model=KNeighborsClassifier(n_neighbors=8,weights='distance')"
   ],
   "metadata": {
    "collapsed": false,
    "pycharm": {
     "name": "#%%\n"
    }
   }
  },
  {
   "cell_type": "code",
   "execution_count": 64,
   "outputs": [],
   "source": [
    "sum=0\n",
    "k=10\n",
    "ilist=[]\n",
    "falsepoitivelist=[]\n",
    "falsenegativelist=[]\n",
    "errorratelist=[]\n",
    "accuracylist=[]\n",
    "for i in range(1,k+1):\n",
    "    result=next(kcv.split(x),None)\n",
    "    x_train=x.iloc[result[0]]\n",
    "    x_test=x.iloc[result[1]]\n",
    "    y_train=y.iloc[result[0]]\n",
    "    y_test=y.iloc[result[1]]\n",
    "    model.fit(x_train,y_train)\n",
    "    y_pred=model.predict(x_test)\n",
    "    conf_matrix=metrics.confusion_matrix(y_test,y_pred)\n",
    "    fp=conf_matrix[0][1]\n",
    "    fn=conf_matrix[1][0]\n",
    "    tn=conf_matrix[0][0]\n",
    "    tp=conf_matrix[1][1]\n",
    "    fpr=(fp/(fp+tn))\n",
    "    fnr=(fn/(fn+tp))\n",
    "    err=((fp+fn)/(tp+tn+fp+fn))\n",
    "    sum=sum+err\n",
    "    ilist.append(i)\n",
    "    falsepoitivelist.append(fpr)\n",
    "    falsenegativelist.append(fnr)\n",
    "    errorratelist.append(err)\n",
    "    accuracylist.append(metrics.accuracy_score(y_test,y_pred))"
   ],
   "metadata": {
    "collapsed": false,
    "pycharm": {
     "name": "#%%\n"
    }
   }
  },
  {
   "cell_type": "markdown",
   "source": [
    "Results"
   ],
   "metadata": {
    "collapsed": false,
    "pycharm": {
     "name": "#%% md\n"
    }
   }
  },
  {
   "cell_type": "code",
   "execution_count": 65,
   "outputs": [
    {
     "name": "stdout",
     "output_type": "stream",
     "text": [
      "+---------------+-----------------------+-----------------------+--------------+------------+\n",
      "| Fold Number   |   False Positive Rate |   False Negative Rate |   Error Rate |   Accuracy |\n",
      "|---------------+-----------------------+-----------------------+--------------+------------|\n",
      "| 1             |              0.113553 |              0.207447 |     0.151844 |   0.848156 |\n",
      "| 2             |              0.15     |              0.180124 |     0.160521 |   0.839479 |\n",
      "| 3             |              0.163194 |              0.202312 |     0.177874 |   0.822126 |\n",
      "| 4             |              0.164912 |              0.198864 |     0.177874 |   0.822126 |\n",
      "| 5             |              0.126354 |              0.163043 |     0.140998 |   0.859002 |\n",
      "| 6             |              0.167857 |              0.243094 |     0.197397 |   0.802603 |\n",
      "| 7             |              0.137037 |              0.26178  |     0.18872  |   0.81128  |\n",
      "| 8             |              0.114865 |              0.248485 |     0.16269  |   0.83731  |\n",
      "| 9             |              0.122302 |              0.26776  |     0.180043 |   0.819957 |\n",
      "| 10            |              0.139373 |              0.132184 |     0.136659 |   0.863341 |\n",
      "| Average       |              0.139945 |              0.210509 |     0.136659 |   0.832538 |\n",
      "+---------------+-----------------------+-----------------------+--------------+------------+\n"
     ]
    }
   ],
   "source": [
    "import numpy as np\n",
    "ilist.append(\"Average\")\n",
    "falsepoitivelist.append(np.mean(falsepoitivelist))\n",
    "falsenegativelist.append(np.mean(falsenegativelist))\n",
    "errorratelist.append(np.mean(err))\n",
    "accuracylist.append(np.mean(accuracylist))\n",
    "from tabulate import tabulate\n",
    "from IPython.display import display\n",
    "df=pd.DataFrame({\"Fold Number\":ilist,\"False Positive Rate\":falsepoitivelist,\"False Negative Rate\":falsenegativelist,\"Error Rate\":errorratelist,\"Accuracy\":accuracylist})\n",
    "df.set_index([\"Fold Number\"],inplace=True)\n",
    "#display(df)\n",
    "print(tabulate(df,headers='keys',tablefmt='psql'))"
   ],
   "metadata": {
    "collapsed": false,
    "pycharm": {
     "name": "#%%\n"
    }
   }
  }
 ],
 "metadata": {
  "kernelspec": {
   "display_name": "Python 3",
   "language": "python",
   "name": "python3"
  },
  "language_info": {
   "codemirror_mode": {
    "name": "ipython",
    "version": 2
   },
   "file_extension": ".py",
   "mimetype": "text/x-python",
   "name": "python",
   "nbconvert_exporter": "python",
   "pygments_lexer": "ipython2",
   "version": "2.7.6"
  }
 },
 "nbformat": 4,
 "nbformat_minor": 0
}